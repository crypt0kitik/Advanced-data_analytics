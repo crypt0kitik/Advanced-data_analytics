{
 "cells": [
  {
   "cell_type": "markdown",
   "id": "e239eb1d-43ae-4db1-b29b-3f1dfffa9241",
   "metadata": {},
   "source": [
    "One dataset for regression purposes  \n",
    "Target variable is a continuous value which is rating of a movie  \n",
    "The link for the dataset: https://www.kaggle.com/datasets/kianindeed/imdb-movie-dataset-dec-2023   "
   ]
  },
  {
   "cell_type": "markdown",
   "id": "309967b4-f950-4231-92e4-92aadb635e36",
   "metadata": {},
   "source": [
    "Questions:\n",
    "\n",
    "- Target variable distribution, is it optimal?\n",
    "(normal distribution for regression is usually optimal, for classification: normal or balanced distribution)\n",
    "\n",
    "- Independent variable distributions, are they balanced throughout the datasets?\n",
    "\n",
    "- Overlapping data and noise, are any variables messy (lots of outliers etc.) or do they have contradicting trends, that might be non-optimal or confusing for the target -variable?\n",
    "(see lecture examples regarding the red wine dataset, it has lots of these)\n",
    "\n",
    "- Redundancy, are there any variables that probably could be removed due to redundant information?\n",
    "(variables that have more or less the same effect on the dataset, thus one of them being redundant)\n",
    "\n",
    "- Other problems in the dataset, like missing data and duplicate rows?\n",
    "If so, how much missing or duplicate data there is?\n",
    "\n",
    "- Significant outliers in the dataset?\n",
    "\n",
    "- Ideas for performing feature engineering for this dataset: any ideas combining, altering, filtering specific columns of the dataset?\n",
    "\n",
    "- Any other out of the ordinary in your dataset that we should keep an eye on?"
   ]
  },
  {
   "cell_type": "code",
   "execution_count": null,
   "id": "50e27037-9444-40df-b89c-3632dfcb37b6",
   "metadata": {},
   "outputs": [],
   "source": []
  }
 ],
 "metadata": {
  "kernelspec": {
   "display_name": "Python 3 (ipykernel)",
   "language": "python",
   "name": "python3"
  },
  "language_info": {
   "codemirror_mode": {
    "name": "ipython",
    "version": 3
   },
   "file_extension": ".py",
   "mimetype": "text/x-python",
   "name": "python",
   "nbconvert_exporter": "python",
   "pygments_lexer": "ipython3",
   "version": "3.12.5"
  }
 },
 "nbformat": 4,
 "nbformat_minor": 5
}

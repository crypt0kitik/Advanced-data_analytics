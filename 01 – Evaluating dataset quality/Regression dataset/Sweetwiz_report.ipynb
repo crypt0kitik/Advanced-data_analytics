{
 "cells": [
  {
   "cell_type": "markdown",
   "id": "e239eb1d-43ae-4db1-b29b-3f1dfffa9241",
   "metadata": {},
   "source": [
    "## Sweetwiz report"
   ]
  },
  {
   "cell_type": "code",
   "execution_count": 4,
   "id": "ada239f1-a5cb-4281-8bf4-91782a86aaf4",
   "metadata": {},
   "outputs": [],
   "source": [
    "#!pip install numpy==1.26.4"
   ]
  },
  {
   "cell_type": "code",
   "execution_count": 5,
   "id": "e66b7111-8a15-4500-980f-0e0f8770989e",
   "metadata": {},
   "outputs": [],
   "source": [
    "# pip install matplotlib\n",
    "# !pip install seaborn\n",
    "#!pip install sklearn\n",
    "# !pip install scikit-learn\n",
    "# !pip install ydata-profiling\n",
    "#!pip install numpy==1.21\n",
    "# !pip install --upgrade --force-reinstall setuptools\n",
    "#!pip install six\n",
    "\n",
    "#!pip install sweetviz\n",
    "#!pip install ipywidgets\n",
    "#pip uninstall setuptools\n",
    "\n",
    "#pip install --upgrade pip setuptools\n",
    "#pip cache purge\n",
    "#!pip install numpy==1.20\n",
    "#pip install wheel\n",
    "\n",
    "# I tried different troubleshooting methods\n",
    "# and suddenly I realized that maybe Ydata does not work because \n",
    "# I have also string data\n",
    "# I need to modify all data into numeric"
   ]
  },
  {
   "cell_type": "code",
   "execution_count": 6,
   "id": "50e27037-9444-40df-b89c-3632dfcb37b6",
   "metadata": {},
   "outputs": [],
   "source": [
    "# import libraries\n",
    "import pandas as pd\n",
    "import numpy as np\n",
    "import matplotlib.pyplot as plt\n",
    "import seaborn as sns\n",
    "from sklearn.model_selection import train_test_split\n",
    "from sklearn import metrics\n",
    "\n",
    "import sweetviz as sv"
   ]
  },
  {
   "cell_type": "code",
   "execution_count": 7,
   "id": "aa792044-b793-43c2-b456-13680338127f",
   "metadata": {},
   "outputs": [
    {
     "data": {
      "text/html": [
       "<div>\n",
       "<style scoped>\n",
       "    .dataframe tbody tr th:only-of-type {\n",
       "        vertical-align: middle;\n",
       "    }\n",
       "\n",
       "    .dataframe tbody tr th {\n",
       "        vertical-align: top;\n",
       "    }\n",
       "\n",
       "    .dataframe thead th {\n",
       "        text-align: right;\n",
       "    }\n",
       "</style>\n",
       "<table border=\"1\" class=\"dataframe\">\n",
       "  <thead>\n",
       "    <tr style=\"text-align: right;\">\n",
       "      <th></th>\n",
       "      <th>Unnamed: 0</th>\n",
       "      <th>Moive Name</th>\n",
       "      <th>Rating</th>\n",
       "      <th>Votes</th>\n",
       "      <th>Meta Score</th>\n",
       "      <th>Genre</th>\n",
       "      <th>PG Rating</th>\n",
       "      <th>Year</th>\n",
       "      <th>Duration</th>\n",
       "      <th>Cast</th>\n",
       "      <th>Director</th>\n",
       "    </tr>\n",
       "  </thead>\n",
       "  <tbody>\n",
       "    <tr>\n",
       "      <th>0</th>\n",
       "      <td>0</td>\n",
       "      <td>Leave the World Behind</td>\n",
       "      <td>6.5</td>\n",
       "      <td>90000.0</td>\n",
       "      <td>67.0</td>\n",
       "      <td>Drama, Mystery, Thriller</td>\n",
       "      <td>R</td>\n",
       "      <td>2023</td>\n",
       "      <td>2h 18m</td>\n",
       "      <td>Julia Roberts, Mahershala Ali, Ethan Hawke, My...</td>\n",
       "      <td>Sam Esmail</td>\n",
       "    </tr>\n",
       "    <tr>\n",
       "      <th>1</th>\n",
       "      <td>1</td>\n",
       "      <td>Wonka</td>\n",
       "      <td>7.4</td>\n",
       "      <td>24000.0</td>\n",
       "      <td>66.0</td>\n",
       "      <td>Adventure, Comedy, Family</td>\n",
       "      <td>PG</td>\n",
       "      <td>2023</td>\n",
       "      <td>1h 56m</td>\n",
       "      <td>Timothée Chalamet, Gustave Die, Murray McArthu...</td>\n",
       "      <td>Paul King</td>\n",
       "    </tr>\n",
       "    <tr>\n",
       "      <th>2</th>\n",
       "      <td>2</td>\n",
       "      <td>Poor Things</td>\n",
       "      <td>8.5</td>\n",
       "      <td>6700.0</td>\n",
       "      <td>86.0</td>\n",
       "      <td>Comedy, Drama, Romance</td>\n",
       "      <td>R</td>\n",
       "      <td>2023</td>\n",
       "      <td>2h 21m</td>\n",
       "      <td>Emma Stone, Mark Ruffalo, Willem Dafoe, Ramy Y...</td>\n",
       "      <td>Yorgos Lanthimos</td>\n",
       "    </tr>\n",
       "    <tr>\n",
       "      <th>3</th>\n",
       "      <td>3</td>\n",
       "      <td>Killers of the Flower Moon</td>\n",
       "      <td>7.8</td>\n",
       "      <td>128000.0</td>\n",
       "      <td>89.0</td>\n",
       "      <td>Crime, Drama, History</td>\n",
       "      <td>R</td>\n",
       "      <td>2023</td>\n",
       "      <td>3h 26m</td>\n",
       "      <td>Leonardo DiCaprio, Robert De Niro, Lily Gladst...</td>\n",
       "      <td>Martin Scorsese</td>\n",
       "    </tr>\n",
       "    <tr>\n",
       "      <th>4</th>\n",
       "      <td>4</td>\n",
       "      <td>May December</td>\n",
       "      <td>7.0</td>\n",
       "      <td>21000.0</td>\n",
       "      <td>85.0</td>\n",
       "      <td>Comedy, Drama</td>\n",
       "      <td>R</td>\n",
       "      <td>2023</td>\n",
       "      <td>1h 57m</td>\n",
       "      <td>Natalie Portman, Chris Tenzis, Charles Melton,...</td>\n",
       "      <td>Todd Haynes</td>\n",
       "    </tr>\n",
       "  </tbody>\n",
       "</table>\n",
       "</div>"
      ],
      "text/plain": [
       "   Unnamed: 0                   Moive Name  Rating     Votes  Meta Score  \\\n",
       "0           0       Leave the World Behind     6.5   90000.0        67.0   \n",
       "1           1                        Wonka     7.4   24000.0        66.0   \n",
       "2           2                  Poor Things     8.5    6700.0        86.0   \n",
       "3           3   Killers of the Flower Moon     7.8  128000.0        89.0   \n",
       "4           4                 May December     7.0   21000.0        85.0   \n",
       "\n",
       "                       Genre PG Rating  Year Duration  \\\n",
       "0   Drama, Mystery, Thriller         R  2023   2h 18m   \n",
       "1  Adventure, Comedy, Family        PG  2023   1h 56m   \n",
       "2     Comedy, Drama, Romance         R  2023   2h 21m   \n",
       "3      Crime, Drama, History         R  2023   3h 26m   \n",
       "4              Comedy, Drama         R  2023   1h 57m   \n",
       "\n",
       "                                                Cast          Director  \n",
       "0  Julia Roberts, Mahershala Ali, Ethan Hawke, My...        Sam Esmail  \n",
       "1  Timothée Chalamet, Gustave Die, Murray McArthu...         Paul King  \n",
       "2  Emma Stone, Mark Ruffalo, Willem Dafoe, Ramy Y...  Yorgos Lanthimos  \n",
       "3  Leonardo DiCaprio, Robert De Niro, Lily Gladst...   Martin Scorsese  \n",
       "4  Natalie Portman, Chris Tenzis, Charles Melton,...       Todd Haynes  "
      ]
     },
     "execution_count": 7,
     "metadata": {},
     "output_type": "execute_result"
    }
   ],
   "source": [
    "# upload data\n",
    "df = pd.read_csv(\"imdb_movie_data_2023.csv\")\n",
    "df.head()"
   ]
  },
  {
   "cell_type": "code",
   "execution_count": 8,
   "id": "bbe25c6e-9d92-4d5e-a216-249b6139381b",
   "metadata": {},
   "outputs": [
    {
     "data": {
      "application/vnd.jupyter.widget-view+json": {
       "model_id": "5b1094b2dad84011843fbb182e43ca0d",
       "version_major": 2,
       "version_minor": 0
      },
      "text/plain": [
       "                                             |          | [  0%]   00:00 -> (? left)"
      ]
     },
     "metadata": {},
     "output_type": "display_data"
    },
    {
     "name": "stdout",
     "output_type": "stream",
     "text": [
      "Report sweetviz_report_movies.html was generated! NOTEBOOK/COLAB USERS: the web browser MAY not pop up, regardless, the report IS saved in your notebook/colab files.\n"
     ]
    }
   ],
   "source": [
    "# analyze and create HTML-report\n",
    "report = sv.analyze(df)\n",
    "report.show_html('sweetviz_report_movies.html')"
   ]
  },
  {
   "cell_type": "code",
   "execution_count": 9,
   "id": "2671c259-69de-4170-9e29-e82b8c0a7194",
   "metadata": {},
   "outputs": [],
   "source": [
    "# My thoughts:\n",
    "\n",
    "# I started using VS Code instead of the Jupyter Notebook web version,\n",
    "# because I experienced a lot bugs, but now everything works more smoothly.\n",
    "\n",
    "# I like that the Sweetviz tool is very clickable and intuitive.\n",
    "# I compared Sweetviz and Ydata statistics, and both show the same amount of missing data.\n",
    "\n",
    "# Interestingly, Sweetviz also shows the most frequent, largest, and smallest values.\n",
    "# This is the same information we get when using the df.describe() command.\n",
    "\n",
    "# Moreover, we can see that some movie names appear two or three times.\n",
    "# I wonder why—perhaps due to merging data.\n",
    "\n",
    "# One feature I really like about Sweetviz is the associations and correlations tool.\n",
    "# It draws circles and rectangles to show connections between variables, if any exist.\n",
    "# For example, it shows associations between the PG rating and the year.\n",
    "# It's likely that the year a movie was made affects its PG rating,\n",
    "# as the film industry has become stricter with age limits.\n",
    "\n",
    "# Regarding correlations, we see a strong one between Rating and Meta Score,\n",
    "# which is quite obvious, and also between votes and ratings, which is similarly expected.\n",
    "# However, having a tool that shows so much information at once is great.\n",
    "# I'm very happy with this experience.\n"
   ]
  },
  {
   "cell_type": "code",
   "execution_count": null,
   "id": "05b07e2f",
   "metadata": {},
   "outputs": [],
   "source": []
  }
 ],
 "metadata": {
  "kernelspec": {
   "display_name": ".venv",
   "language": "python",
   "name": "python3"
  },
  "language_info": {
   "codemirror_mode": {
    "name": "ipython",
    "version": 3
   },
   "file_extension": ".py",
   "mimetype": "text/x-python",
   "name": "python",
   "nbconvert_exporter": "python",
   "pygments_lexer": "ipython3",
   "version": "3.9.0"
  }
 },
 "nbformat": 4,
 "nbformat_minor": 5
}

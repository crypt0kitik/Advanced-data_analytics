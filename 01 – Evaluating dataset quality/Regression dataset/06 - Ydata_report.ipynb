{
 "cells": [
  {
   "cell_type": "markdown",
   "id": "e239eb1d-43ae-4db1-b29b-3f1dfffa9241",
   "metadata": {},
   "source": [
    "One dataset for regression purposes  \n",
    "Target variable is a continuous value which is rating of a movie  \n",
    "The link for the dataset: https://www.kaggle.com/datasets/kianindeed/imdb-movie-dataset-dec-2023   "
   ]
  },
  {
   "cell_type": "markdown",
   "id": "309967b4-f950-4231-92e4-92aadb635e36",
   "metadata": {},
   "source": [
    "Questions:\n",
    "\n",
    "- Target variable distribution, is it optimal?\n",
    "(normal distribution for regression is usually optimal, for classification: normal or balanced distribution)\n",
    "\n",
    "- Independent variable distributions, are they balanced throughout the datasets?\n",
    "\n",
    "- Overlapping data and noise, are any variables messy (lots of outliers etc.) or do they have contradicting trends, that might be non-optimal or confusing for the target -variable?\n",
    "(see lecture examples regarding the red wine dataset, it has lots of these)\n",
    "\n",
    "- Redundancy, are there any variables that probably could be removed due to redundant information?\n",
    "(variables that have more or less the same effect on the dataset, thus one of them being redundant)\n",
    "\n",
    "- Other problems in the dataset, like missing data and duplicate rows?\n",
    "If so, how much missing or duplicate data there is?\n",
    "\n",
    "- Significant outliers in the dataset?\n",
    "\n",
    "- Ideas for performing feature engineering for this dataset: any ideas combining, altering, filtering specific columns of the dataset?\n",
    "\n",
    "- Any other out of the ordinary in your dataset that we should keep an eye on?"
   ]
  },
  {
   "cell_type": "code",
   "execution_count": 1,
   "id": "e66b7111-8a15-4500-980f-0e0f8770989e",
   "metadata": {},
   "outputs": [],
   "source": [
    "# pip install matplotlib\n",
    "# !pip install seaborn\n",
    "#!pip install sklearn\n",
    "# !pip install scikit-learn\n",
    "# !pip install ydata-profiling\n",
    "#!pip install numpy==1.21\n",
    "# !pip install --upgrade --force-reinstall setuptools\n",
    "#!pip install six"
   ]
  },
  {
   "cell_type": "code",
   "execution_count": 2,
   "id": "50e27037-9444-40df-b89c-3632dfcb37b6",
   "metadata": {},
   "outputs": [],
   "source": [
    "# import libraries\n",
    "import pandas as pd\n",
    "import numpy as np\n",
    "import matplotlib.pyplot as plt\n",
    "import seaborn as sns\n",
    "from sklearn.model_selection import train_test_split\n",
    "from sklearn import metrics"
   ]
  },
  {
   "cell_type": "code",
   "execution_count": 3,
   "id": "aa792044-b793-43c2-b456-13680338127f",
   "metadata": {},
   "outputs": [
    {
     "data": {
      "text/html": [
       "<div>\n",
       "<style scoped>\n",
       "    .dataframe tbody tr th:only-of-type {\n",
       "        vertical-align: middle;\n",
       "    }\n",
       "\n",
       "    .dataframe tbody tr th {\n",
       "        vertical-align: top;\n",
       "    }\n",
       "\n",
       "    .dataframe thead th {\n",
       "        text-align: right;\n",
       "    }\n",
       "</style>\n",
       "<table border=\"1\" class=\"dataframe\">\n",
       "  <thead>\n",
       "    <tr style=\"text-align: right;\">\n",
       "      <th></th>\n",
       "      <th>Unnamed: 0</th>\n",
       "      <th>Moive Name</th>\n",
       "      <th>Rating</th>\n",
       "      <th>Votes</th>\n",
       "      <th>Meta Score</th>\n",
       "      <th>Genre</th>\n",
       "      <th>PG Rating</th>\n",
       "      <th>Year</th>\n",
       "      <th>Duration</th>\n",
       "      <th>Cast</th>\n",
       "      <th>Director</th>\n",
       "    </tr>\n",
       "  </thead>\n",
       "  <tbody>\n",
       "    <tr>\n",
       "      <th>0</th>\n",
       "      <td>0</td>\n",
       "      <td>Leave the World Behind</td>\n",
       "      <td>6.5</td>\n",
       "      <td>90000.0</td>\n",
       "      <td>67.0</td>\n",
       "      <td>Drama, Mystery, Thriller</td>\n",
       "      <td>R</td>\n",
       "      <td>2023</td>\n",
       "      <td>2h 18m</td>\n",
       "      <td>Julia Roberts, Mahershala Ali, Ethan Hawke, My...</td>\n",
       "      <td>Sam Esmail</td>\n",
       "    </tr>\n",
       "    <tr>\n",
       "      <th>1</th>\n",
       "      <td>1</td>\n",
       "      <td>Wonka</td>\n",
       "      <td>7.4</td>\n",
       "      <td>24000.0</td>\n",
       "      <td>66.0</td>\n",
       "      <td>Adventure, Comedy, Family</td>\n",
       "      <td>PG</td>\n",
       "      <td>2023</td>\n",
       "      <td>1h 56m</td>\n",
       "      <td>Timothée Chalamet, Gustave Die, Murray McArthu...</td>\n",
       "      <td>Paul King</td>\n",
       "    </tr>\n",
       "    <tr>\n",
       "      <th>2</th>\n",
       "      <td>2</td>\n",
       "      <td>Poor Things</td>\n",
       "      <td>8.5</td>\n",
       "      <td>6700.0</td>\n",
       "      <td>86.0</td>\n",
       "      <td>Comedy, Drama, Romance</td>\n",
       "      <td>R</td>\n",
       "      <td>2023</td>\n",
       "      <td>2h 21m</td>\n",
       "      <td>Emma Stone, Mark Ruffalo, Willem Dafoe, Ramy Y...</td>\n",
       "      <td>Yorgos Lanthimos</td>\n",
       "    </tr>\n",
       "    <tr>\n",
       "      <th>3</th>\n",
       "      <td>3</td>\n",
       "      <td>Killers of the Flower Moon</td>\n",
       "      <td>7.8</td>\n",
       "      <td>128000.0</td>\n",
       "      <td>89.0</td>\n",
       "      <td>Crime, Drama, History</td>\n",
       "      <td>R</td>\n",
       "      <td>2023</td>\n",
       "      <td>3h 26m</td>\n",
       "      <td>Leonardo DiCaprio, Robert De Niro, Lily Gladst...</td>\n",
       "      <td>Martin Scorsese</td>\n",
       "    </tr>\n",
       "    <tr>\n",
       "      <th>4</th>\n",
       "      <td>4</td>\n",
       "      <td>May December</td>\n",
       "      <td>7.0</td>\n",
       "      <td>21000.0</td>\n",
       "      <td>85.0</td>\n",
       "      <td>Comedy, Drama</td>\n",
       "      <td>R</td>\n",
       "      <td>2023</td>\n",
       "      <td>1h 57m</td>\n",
       "      <td>Natalie Portman, Chris Tenzis, Charles Melton,...</td>\n",
       "      <td>Todd Haynes</td>\n",
       "    </tr>\n",
       "  </tbody>\n",
       "</table>\n",
       "</div>"
      ],
      "text/plain": [
       "   Unnamed: 0                   Moive Name  Rating     Votes  Meta Score  \\\n",
       "0           0       Leave the World Behind     6.5   90000.0        67.0   \n",
       "1           1                        Wonka     7.4   24000.0        66.0   \n",
       "2           2                  Poor Things     8.5    6700.0        86.0   \n",
       "3           3   Killers of the Flower Moon     7.8  128000.0        89.0   \n",
       "4           4                 May December     7.0   21000.0        85.0   \n",
       "\n",
       "                       Genre PG Rating  Year Duration  \\\n",
       "0   Drama, Mystery, Thriller         R  2023   2h 18m   \n",
       "1  Adventure, Comedy, Family        PG  2023   1h 56m   \n",
       "2     Comedy, Drama, Romance         R  2023   2h 21m   \n",
       "3      Crime, Drama, History         R  2023   3h 26m   \n",
       "4              Comedy, Drama         R  2023   1h 57m   \n",
       "\n",
       "                                                Cast          Director  \n",
       "0  Julia Roberts, Mahershala Ali, Ethan Hawke, My...        Sam Esmail  \n",
       "1  Timothée Chalamet, Gustave Die, Murray McArthu...         Paul King  \n",
       "2  Emma Stone, Mark Ruffalo, Willem Dafoe, Ramy Y...  Yorgos Lanthimos  \n",
       "3  Leonardo DiCaprio, Robert De Niro, Lily Gladst...   Martin Scorsese  \n",
       "4  Natalie Portman, Chris Tenzis, Charles Melton,...       Todd Haynes  "
      ]
     },
     "execution_count": 3,
     "metadata": {},
     "output_type": "execute_result"
    }
   ],
   "source": [
    "# upload data\n",
    "df = pd.read_csv(\"imdb_movie_data_2023.csv\")\n",
    "df.head()"
   ]
  },
  {
   "cell_type": "code",
   "execution_count": 4,
   "id": "bbe25c6e-9d92-4d5e-a216-249b6139381b",
   "metadata": {},
   "outputs": [
    {
     "data": {
      "application/vnd.jupyter.widget-view+json": {
       "model_id": "37dd7cc5dfcf4a03931fd9f6a550b3a2",
       "version_major": 2,
       "version_minor": 0
      },
      "text/plain": [
       "Summarize dataset:   0%|          | 0/5 [00:00<?, ?it/s]"
      ]
     },
     "metadata": {},
     "output_type": "display_data"
    },
    {
     "data": {
      "application/vnd.jupyter.widget-view+json": {
       "model_id": "0b9657c220fd4e65ae8b52b1358922bd",
       "version_major": 2,
       "version_minor": 0
      },
      "text/plain": [
       "Generate report structure:   0%|          | 0/1 [00:00<?, ?it/s]"
      ]
     },
     "metadata": {},
     "output_type": "display_data"
    },
    {
     "data": {
      "application/vnd.jupyter.widget-view+json": {
       "model_id": "17d43b20e1154a278f367600cdc9f0f8",
       "version_major": 2,
       "version_minor": 0
      },
      "text/plain": [
       "Render HTML:   0%|          | 0/1 [00:00<?, ?it/s]"
      ]
     },
     "metadata": {},
     "output_type": "display_data"
    },
    {
     "data": {
      "application/vnd.jupyter.widget-view+json": {
       "model_id": "f7a392f9de244a778952336907af834e",
       "version_major": 2,
       "version_minor": 0
      },
      "text/plain": [
       "Export report to file:   0%|          | 0/1 [00:00<?, ?it/s]"
      ]
     },
     "metadata": {},
     "output_type": "display_data"
    }
   ],
   "source": [
    "from ydata_profiling import ProfileReport\n",
    "\n",
    "# I have decided to try a tool which can help to optimize work proccess\n",
    "# work smart and not hard :)\n",
    "\n",
    "# Generate the data profiling report, title is just \n",
    "report = ProfileReport(df, title=\"imdb_movie_data, ydata report\")\n",
    "\n",
    "# create either an HTML -page or show it straight in the notebook\n",
    "# sometimes the HTML -page is easier to browse!\n",
    "report.to_file(\"imdb_movie_data, ydata report.html\")\n",
    "#report.to_notebook_iframe()\n",
    "\n",
    "# wow, this is a very powerful tool\n",
    "# because I can see the overall of the data in report\n",
    "\n",
    "# insights:\n",
    "# Number of observations - 1950 and Missing cells - 558\n",
    "# it means that 1/4 is NaN (a lot)\n",
    "# Duplicate rows - 0 -- good!\n",
    "# I need to transform data into numeric because we have\n",
    "# Text - 5 and Categorical\t- 1\n",
    "\n",
    "# Moreover, it shows variables which have high correlations\n",
    "# and also creates plots and heatmaps\n",
    "# I am impressed! wow!\n",
    "\n",
    "# the Alerts page dictates the roadmap of the dataset engineering \n",
    "# Meta Score has 117 (6.0%) missing values\t- Missing\n",
    "# Genre has 117 (6.0%) missing values\t- Missing\n",
    "# PG Rating has 76 (3.9%) missing values -\tMissing\n",
    "# Cast has 117 (6.0%) missing values -\tMissing\n",
    "# Director has 117 (6.0%) missing values -\tMissing\n",
    "# PG Rating is highly imbalanced (53.2%)\t- Imbalance\n",
    "\n",
    "# but! I need to bear in mind that the tool doesn't always show \n",
    "# everything important and also it might give you an \n",
    "# alert of a thing that is not an actual issue\n"
   ]
  },
  {
   "cell_type": "code",
   "execution_count": null,
   "id": "2671c259-69de-4170-9e29-e82b8c0a7194",
   "metadata": {},
   "outputs": [],
   "source": []
  }
 ],
 "metadata": {
  "kernelspec": {
   "display_name": ".venv",
   "language": "python",
   "name": "python3"
  },
  "language_info": {
   "codemirror_mode": {
    "name": "ipython",
    "version": 3
   },
   "file_extension": ".py",
   "mimetype": "text/x-python",
   "name": "python",
   "nbconvert_exporter": "python",
   "pygments_lexer": "ipython3",
   "version": "3.9.0"
  }
 },
 "nbformat": 4,
 "nbformat_minor": 5
}

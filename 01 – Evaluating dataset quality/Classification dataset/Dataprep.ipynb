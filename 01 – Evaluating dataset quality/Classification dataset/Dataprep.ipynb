{
 "cells": [
  {
   "cell_type": "code",
   "execution_count": 8,
   "id": "2a115805-1404-4353-9ac9-b4e365178999",
   "metadata": {},
   "outputs": [
    {
     "name": "stdout",
     "output_type": "stream",
     "text": [
      "Index(['age', 'job', 'marital', 'education', 'default', 'balance', 'housing',\n",
      "       'loan', 'contact', 'day', 'month', 'duration', 'campaign', 'pdays',\n",
      "       'previous', 'poutcome', 'deposit'],\n",
      "      dtype='object')\n"
     ]
    },
    {
     "data": {
      "application/vnd.jupyter.widget-view+json": {
       "model_id": "057b97cb75954e28b999a7f97bbbcb0b",
       "version_major": 2,
       "version_minor": 0
      },
      "text/plain": [
       "  0%|          | 0/2281 [00:00<?, ?it/s]"
      ]
     },
     "metadata": {},
     "output_type": "display_data"
    },
    {
     "name": "stderr",
     "output_type": "stream",
     "text": [
      "error happended in column:job\n"
     ]
    },
    {
     "ename": "KeyError",
     "evalue": "'job'",
     "output_type": "error",
     "traceback": [
      "\u001b[1;31m---------------------------------------------------------------------------\u001b[0m",
      "\u001b[1;31mKeyError\u001b[0m                                  Traceback (most recent call last)",
      "File \u001b[1;32mc:\\Users\\e1003118\\OneDrive - Enersense\\Tiedostot\\Advanced-data_analytics\\.venv\\lib\\site-packages\\pandas\\core\\indexes\\base.py:3805\u001b[0m, in \u001b[0;36mIndex.get_loc\u001b[1;34m(self, key)\u001b[0m\n\u001b[0;32m   3804\u001b[0m \u001b[38;5;28;01mtry\u001b[39;00m:\n\u001b[1;32m-> 3805\u001b[0m     \u001b[38;5;28;01mreturn\u001b[39;00m \u001b[38;5;28;43mself\u001b[39;49m\u001b[38;5;241;43m.\u001b[39;49m\u001b[43m_engine\u001b[49m\u001b[38;5;241;43m.\u001b[39;49m\u001b[43mget_loc\u001b[49m\u001b[43m(\u001b[49m\u001b[43mcasted_key\u001b[49m\u001b[43m)\u001b[49m\n\u001b[0;32m   3806\u001b[0m \u001b[38;5;28;01mexcept\u001b[39;00m \u001b[38;5;167;01mKeyError\u001b[39;00m \u001b[38;5;28;01mas\u001b[39;00m err:\n",
      "File \u001b[1;32mindex.pyx:167\u001b[0m, in \u001b[0;36mpandas._libs.index.IndexEngine.get_loc\u001b[1;34m()\u001b[0m\n",
      "File \u001b[1;32mindex.pyx:196\u001b[0m, in \u001b[0;36mpandas._libs.index.IndexEngine.get_loc\u001b[1;34m()\u001b[0m\n",
      "File \u001b[1;32mpandas\\\\_libs\\\\hashtable_class_helper.pxi:7081\u001b[0m, in \u001b[0;36mpandas._libs.hashtable.PyObjectHashTable.get_item\u001b[1;34m()\u001b[0m\n",
      "File \u001b[1;32mpandas\\\\_libs\\\\hashtable_class_helper.pxi:7089\u001b[0m, in \u001b[0;36mpandas._libs.hashtable.PyObjectHashTable.get_item\u001b[1;34m()\u001b[0m\n",
      "\u001b[1;31mKeyError\u001b[0m: 'job'",
      "\nThe above exception was the direct cause of the following exception:\n",
      "\u001b[1;31mKeyError\u001b[0m                                  Traceback (most recent call last)",
      "Cell \u001b[1;32mIn[8], line 18\u001b[0m\n\u001b[0;32m     11\u001b[0m \u001b[38;5;28mprint\u001b[39m(df\u001b[38;5;241m.\u001b[39mcolumns)\n\u001b[0;32m     13\u001b[0m \u001b[38;5;66;03m# I thought that maybe dropping Nan values can help to solve the problem\u001b[39;00m\n\u001b[0;32m     14\u001b[0m \u001b[38;5;66;03m# it did not\u001b[39;00m\n\u001b[0;32m     15\u001b[0m \u001b[38;5;66;03m# df.dropna(inplace=True)\u001b[39;00m\n\u001b[1;32m---> 18\u001b[0m \u001b[43mcreate_report\u001b[49m\u001b[43m(\u001b[49m\u001b[43mdf\u001b[49m\u001b[43m)\u001b[49m\u001b[38;5;241m.\u001b[39mshow_browser()\n",
      "File \u001b[1;32mc:\\Users\\e1003118\\OneDrive - Enersense\\Tiedostot\\Advanced-data_analytics\\.venv\\lib\\site-packages\\dataprep\\eda\\create_report\\__init__.py:68\u001b[0m, in \u001b[0;36mcreate_report\u001b[1;34m(df, config, display, title, mode, progress)\u001b[0m\n\u001b[0;32m     63\u001b[0m _suppress_warnings()\n\u001b[0;32m     64\u001b[0m cfg \u001b[38;5;241m=\u001b[39m Config\u001b[38;5;241m.\u001b[39mfrom_dict(display, config)\n\u001b[0;32m     65\u001b[0m context \u001b[38;5;241m=\u001b[39m {\n\u001b[0;32m     66\u001b[0m     \u001b[38;5;124m\"\u001b[39m\u001b[38;5;124mresources\u001b[39m\u001b[38;5;124m\"\u001b[39m: INLINE\u001b[38;5;241m.\u001b[39mrender(),\n\u001b[0;32m     67\u001b[0m     \u001b[38;5;124m\"\u001b[39m\u001b[38;5;124mtitle\u001b[39m\u001b[38;5;124m\"\u001b[39m: title,\n\u001b[1;32m---> 68\u001b[0m     \u001b[38;5;124m\"\u001b[39m\u001b[38;5;124mcomponents\u001b[39m\u001b[38;5;124m\"\u001b[39m: \u001b[43mformat_report\u001b[49m\u001b[43m(\u001b[49m\u001b[43mdf\u001b[49m\u001b[43m,\u001b[49m\u001b[43m \u001b[49m\u001b[43mcfg\u001b[49m\u001b[43m,\u001b[49m\u001b[43m \u001b[49m\u001b[43mmode\u001b[49m\u001b[43m,\u001b[49m\u001b[43m \u001b[49m\u001b[43mprogress\u001b[49m\u001b[43m)\u001b[49m,\n\u001b[0;32m     69\u001b[0m }\n\u001b[0;32m     70\u001b[0m template_base \u001b[38;5;241m=\u001b[39m ENV_LOADER\u001b[38;5;241m.\u001b[39mget_template(\u001b[38;5;124m\"\u001b[39m\u001b[38;5;124mbase.html\u001b[39m\u001b[38;5;124m\"\u001b[39m)\n\u001b[0;32m     71\u001b[0m report \u001b[38;5;241m=\u001b[39m template_base\u001b[38;5;241m.\u001b[39mrender(context\u001b[38;5;241m=\u001b[39mcontext)\n",
      "File \u001b[1;32mc:\\Users\\e1003118\\OneDrive - Enersense\\Tiedostot\\Advanced-data_analytics\\.venv\\lib\\site-packages\\dataprep\\eda\\create_report\\formatter.py:78\u001b[0m, in \u001b[0;36mformat_report\u001b[1;34m(df, cfg, mode, progress)\u001b[0m\n\u001b[0;32m     76\u001b[0m \u001b[38;5;28;01mif\u001b[39;00m mode \u001b[38;5;241m==\u001b[39m \u001b[38;5;124m\"\u001b[39m\u001b[38;5;124mbasic\u001b[39m\u001b[38;5;124m\"\u001b[39m:\n\u001b[0;32m     77\u001b[0m     edaframe \u001b[38;5;241m=\u001b[39m EDAFrame(df)\n\u001b[1;32m---> 78\u001b[0m     comps \u001b[38;5;241m=\u001b[39m \u001b[43mformat_basic\u001b[49m\u001b[43m(\u001b[49m\u001b[43medaframe\u001b[49m\u001b[43m,\u001b[49m\u001b[43m \u001b[49m\u001b[43mcfg\u001b[49m\u001b[43m)\u001b[49m\n\u001b[0;32m     79\u001b[0m \u001b[38;5;66;03m# elif mode == \"full\":\u001b[39;00m\n\u001b[0;32m     80\u001b[0m \u001b[38;5;66;03m#     comps = format_full(df)\u001b[39;00m\n\u001b[0;32m     81\u001b[0m \u001b[38;5;66;03m# elif mode == \"minimal\":\u001b[39;00m\n\u001b[0;32m     82\u001b[0m \u001b[38;5;66;03m#     comps = format_mini(df)\u001b[39;00m\n\u001b[0;32m     83\u001b[0m \u001b[38;5;28;01melse\u001b[39;00m:\n\u001b[0;32m     84\u001b[0m     \u001b[38;5;28;01mraise\u001b[39;00m \u001b[38;5;167;01mValueError\u001b[39;00m(\u001b[38;5;124mf\u001b[39m\u001b[38;5;124m\"\u001b[39m\u001b[38;5;124mUnknown mode: \u001b[39m\u001b[38;5;132;01m{\u001b[39;00mmode\u001b[38;5;132;01m}\u001b[39;00m\u001b[38;5;124m\"\u001b[39m)\n",
      "File \u001b[1;32mc:\\Users\\e1003118\\OneDrive - Enersense\\Tiedostot\\Advanced-data_analytics\\.venv\\lib\\site-packages\\dataprep\\eda\\create_report\\formatter.py:291\u001b[0m, in \u001b[0;36mformat_basic\u001b[1;34m(df, cfg)\u001b[0m\n\u001b[0;32m    288\u001b[0m     (data,) \u001b[38;5;241m=\u001b[39m dask\u001b[38;5;241m.\u001b[39mcompute(data)\n\u001b[0;32m    290\u001b[0m res_overview \u001b[38;5;241m=\u001b[39m _format_overview(data, cfg)\n\u001b[1;32m--> 291\u001b[0m res_variables \u001b[38;5;241m=\u001b[39m \u001b[43m_format_variables\u001b[49m\u001b[43m(\u001b[49m\u001b[43mdf\u001b[49m\u001b[43m,\u001b[49m\u001b[43m \u001b[49m\u001b[43mcfg\u001b[49m\u001b[43m,\u001b[49m\u001b[43m \u001b[49m\u001b[43mdata\u001b[49m\u001b[43m)\u001b[49m\n\u001b[0;32m    292\u001b[0m res_interaction \u001b[38;5;241m=\u001b[39m _format_interaction(data, cfg)\n\u001b[0;32m    293\u001b[0m res_correlations \u001b[38;5;241m=\u001b[39m _format_correlation(data, cfg)\n",
      "File \u001b[1;32mc:\\Users\\e1003118\\OneDrive - Enersense\\Tiedostot\\Advanced-data_analytics\\.venv\\lib\\site-packages\\dataprep\\eda\\create_report\\formatter.py:120\u001b[0m, in \u001b[0;36m_format_variables\u001b[1;34m(df, cfg, data)\u001b[0m\n\u001b[0;32m    117\u001b[0m \u001b[38;5;28;01melse\u001b[39;00m:\n\u001b[0;32m    118\u001b[0m     \u001b[38;5;28;01mraise\u001b[39;00m \u001b[38;5;167;01mRuntimeError\u001b[39;00m(\u001b[38;5;124mf\u001b[39m\u001b[38;5;124m\"\u001b[39m\u001b[38;5;124mthe type of column \u001b[39m\u001b[38;5;132;01m{\u001b[39;00mcol\u001b[38;5;132;01m}\u001b[39;00m\u001b[38;5;124m is unknown: \u001b[39m\u001b[38;5;132;01m{\u001b[39;00m\u001b[38;5;28mtype\u001b[39m(dtp)\u001b[38;5;132;01m}\u001b[39;00m\u001b[38;5;124m\"\u001b[39m)\n\u001b[1;32m--> 120\u001b[0m rndrd \u001b[38;5;241m=\u001b[39m \u001b[43mrender\u001b[49m\u001b[43m(\u001b[49m\u001b[43mitmdt\u001b[49m\u001b[43m,\u001b[49m\u001b[43m \u001b[49m\u001b[43mcfg\u001b[49m\u001b[43m)\u001b[49m\n\u001b[0;32m    121\u001b[0m layout \u001b[38;5;241m=\u001b[39m rndrd[\u001b[38;5;124m\"\u001b[39m\u001b[38;5;124mlayout\u001b[39m\u001b[38;5;124m\"\u001b[39m]\n\u001b[0;32m    122\u001b[0m figs_var: List[Figure] \u001b[38;5;241m=\u001b[39m []\n",
      "File \u001b[1;32mc:\\Users\\e1003118\\OneDrive - Enersense\\Tiedostot\\Advanced-data_analytics\\.venv\\lib\\site-packages\\dataprep\\eda\\distribution\\render.py:2473\u001b[0m, in \u001b[0;36mrender\u001b[1;34m(itmdt, cfg)\u001b[0m\n\u001b[0;32m   2471\u001b[0m     visual_elem \u001b[38;5;241m=\u001b[39m render_distribution_grid(itmdt, cfg)\n\u001b[0;32m   2472\u001b[0m \u001b[38;5;28;01melif\u001b[39;00m itmdt\u001b[38;5;241m.\u001b[39mvisual_type \u001b[38;5;241m==\u001b[39m \u001b[38;5;124m\"\u001b[39m\u001b[38;5;124mcategorical_column\u001b[39m\u001b[38;5;124m\"\u001b[39m:\n\u001b[1;32m-> 2473\u001b[0m     visual_elem \u001b[38;5;241m=\u001b[39m \u001b[43mrender_cat\u001b[49m\u001b[43m(\u001b[49m\u001b[43mitmdt\u001b[49m\u001b[43m,\u001b[49m\u001b[43m \u001b[49m\u001b[43mcfg\u001b[49m\u001b[43m)\u001b[49m\n\u001b[0;32m   2474\u001b[0m \u001b[38;5;28;01melif\u001b[39;00m itmdt\u001b[38;5;241m.\u001b[39mvisual_type \u001b[38;5;241m==\u001b[39m \u001b[38;5;124m\"\u001b[39m\u001b[38;5;124mgeography_column\u001b[39m\u001b[38;5;124m\"\u001b[39m:\n\u001b[0;32m   2475\u001b[0m     visual_elem \u001b[38;5;241m=\u001b[39m render_geo(itmdt, cfg)\n",
      "File \u001b[1;32mc:\\Users\\e1003118\\OneDrive - Enersense\\Tiedostot\\Advanced-data_analytics\\.venv\\lib\\site-packages\\dataprep\\eda\\distribution\\render.py:1573\u001b[0m, in \u001b[0;36mrender_cat\u001b[1;34m(itmdt, cfg)\u001b[0m\n\u001b[0;32m   1567\u001b[0m     stats, len_stats, letter_stats \u001b[38;5;241m=\u001b[39m (\n\u001b[0;32m   1568\u001b[0m         data[\u001b[38;5;124m\"\u001b[39m\u001b[38;5;124mstats\u001b[39m\u001b[38;5;124m\"\u001b[39m],\n\u001b[0;32m   1569\u001b[0m         data[\u001b[38;5;124m\"\u001b[39m\u001b[38;5;124mlen_stats\u001b[39m\u001b[38;5;124m\"\u001b[39m],\n\u001b[0;32m   1570\u001b[0m         data[\u001b[38;5;124m\"\u001b[39m\u001b[38;5;124mletter_stats\u001b[39m\u001b[38;5;124m\"\u001b[39m],\n\u001b[0;32m   1571\u001b[0m     )\n\u001b[0;32m   1572\u001b[0m \u001b[38;5;28;01mif\u001b[39;00m cfg\u001b[38;5;241m.\u001b[39mbar\u001b[38;5;241m.\u001b[39menable:\n\u001b[1;32m-> 1573\u001b[0m     fig \u001b[38;5;241m=\u001b[39m \u001b[43mbar_viz\u001b[49m\u001b[43m(\u001b[49m\n\u001b[0;32m   1574\u001b[0m \u001b[43m        \u001b[49m\u001b[43mdata\u001b[49m\u001b[43m[\u001b[49m\u001b[38;5;124;43m\"\u001b[39;49m\u001b[38;5;124;43mbar\u001b[39;49m\u001b[38;5;124;43m\"\u001b[39;49m\u001b[43m]\u001b[49m\u001b[38;5;241;43m.\u001b[39;49m\u001b[43mto_frame\u001b[49m\u001b[43m(\u001b[49m\u001b[43m)\u001b[49m\u001b[43m,\u001b[49m\n\u001b[0;32m   1575\u001b[0m \u001b[43m        \u001b[49m\u001b[43mdata\u001b[49m\u001b[43m[\u001b[49m\u001b[38;5;124;43m\"\u001b[39;49m\u001b[38;5;124;43mnuniq\u001b[39;49m\u001b[38;5;124;43m\"\u001b[39;49m\u001b[43m]\u001b[49m\u001b[43m,\u001b[49m\n\u001b[0;32m   1576\u001b[0m \u001b[43m        \u001b[49m\u001b[43mdata\u001b[49m\u001b[43m[\u001b[49m\u001b[38;5;124;43m\"\u001b[39;49m\u001b[38;5;124;43mnrows\u001b[39;49m\u001b[38;5;124;43m\"\u001b[39;49m\u001b[43m]\u001b[49m\u001b[43m,\u001b[49m\n\u001b[0;32m   1577\u001b[0m \u001b[43m        \u001b[49m\u001b[43mcol\u001b[49m\u001b[43m,\u001b[49m\n\u001b[0;32m   1578\u001b[0m \u001b[43m        \u001b[49m\u001b[43mplot_width_bar\u001b[49m\u001b[43m,\u001b[49m\n\u001b[0;32m   1579\u001b[0m \u001b[43m        \u001b[49m\u001b[43mplot_height_bar\u001b[49m\u001b[43m,\u001b[49m\n\u001b[0;32m   1580\u001b[0m \u001b[43m        \u001b[49m\u001b[38;5;28;43;01mTrue\u001b[39;49;00m\u001b[43m,\u001b[49m\n\u001b[0;32m   1581\u001b[0m \u001b[43m        \u001b[49m\u001b[43mcfg\u001b[49m\u001b[38;5;241;43m.\u001b[39;49m\u001b[43mbar\u001b[49m\u001b[43m,\u001b[49m\n\u001b[0;32m   1582\u001b[0m \u001b[43m    \u001b[49m\u001b[43m)\u001b[49m\n\u001b[0;32m   1583\u001b[0m     tabs\u001b[38;5;241m.\u001b[39mappend(Panel(child\u001b[38;5;241m=\u001b[39mrow(fig), title\u001b[38;5;241m=\u001b[39m\u001b[38;5;124m\"\u001b[39m\u001b[38;5;124mBar Chart\u001b[39m\u001b[38;5;124m\"\u001b[39m))\n\u001b[0;32m   1584\u001b[0m     htgs[\u001b[38;5;124m\"\u001b[39m\u001b[38;5;124mBar Chart\u001b[39m\u001b[38;5;124m\"\u001b[39m] \u001b[38;5;241m=\u001b[39m cfg\u001b[38;5;241m.\u001b[39mbar\u001b[38;5;241m.\u001b[39mhow_to_guide(plot_height, plot_width)\n",
      "File \u001b[1;32mc:\\Users\\e1003118\\OneDrive - Enersense\\Tiedostot\\Advanced-data_analytics\\.venv\\lib\\site-packages\\dataprep\\eda\\distribution\\render.py:223\u001b[0m, in \u001b[0;36mbar_viz\u001b[1;34m(df, ttl_grps, nrows, col, plot_width, plot_height, show_yticks, bar_cfg)\u001b[0m\n\u001b[0;32m    219\u001b[0m \u001b[38;5;250m\u001b[39m\u001b[38;5;124;03m\"\"\"\u001b[39;00m\n\u001b[0;32m    220\u001b[0m \u001b[38;5;124;03mRender a bar chart\u001b[39;00m\n\u001b[0;32m    221\u001b[0m \u001b[38;5;124;03m\"\"\"\u001b[39;00m\n\u001b[0;32m    222\u001b[0m \u001b[38;5;66;03m# pylint: disable=too-many-arguments\u001b[39;00m\n\u001b[1;32m--> 223\u001b[0m df[\u001b[38;5;124m\"\u001b[39m\u001b[38;5;124mpct\u001b[39m\u001b[38;5;124m\"\u001b[39m] \u001b[38;5;241m=\u001b[39m \u001b[43mdf\u001b[49m\u001b[43m[\u001b[49m\u001b[43mcol\u001b[49m\u001b[43m]\u001b[49m \u001b[38;5;241m/\u001b[39m nrows \u001b[38;5;241m*\u001b[39m \u001b[38;5;241m100\u001b[39m\n\u001b[0;32m    224\u001b[0m df\u001b[38;5;241m.\u001b[39mindex \u001b[38;5;241m=\u001b[39m [\u001b[38;5;28mstr\u001b[39m(val) \u001b[38;5;28;01mfor\u001b[39;00m val \u001b[38;5;129;01min\u001b[39;00m df\u001b[38;5;241m.\u001b[39mindex]\n\u001b[0;32m    226\u001b[0m tooltips \u001b[38;5;241m=\u001b[39m [(col, \u001b[38;5;124m\"\u001b[39m\u001b[38;5;124m@index\u001b[39m\u001b[38;5;124m\"\u001b[39m), (\u001b[38;5;124m\"\u001b[39m\u001b[38;5;124mCount\u001b[39m\u001b[38;5;124m\"\u001b[39m, \u001b[38;5;124mf\u001b[39m\u001b[38;5;124m\"\u001b[39m\u001b[38;5;124m@\u001b[39m\u001b[38;5;130;01m{{\u001b[39;00m\u001b[38;5;132;01m{\u001b[39;00mcol\u001b[38;5;132;01m}\u001b[39;00m\u001b[38;5;130;01m}}\u001b[39;00m\u001b[38;5;124m\"\u001b[39m), (\u001b[38;5;124m\"\u001b[39m\u001b[38;5;124mPercent\u001b[39m\u001b[38;5;124m\"\u001b[39m, \u001b[38;5;124m\"\u001b[39m\u001b[38;5;124m@pct\u001b[39m\u001b[38;5;132;01m{0.2f}\u001b[39;00m\u001b[38;5;124m%\u001b[39m\u001b[38;5;124m\"\u001b[39m)]\n",
      "File \u001b[1;32mc:\\Users\\e1003118\\OneDrive - Enersense\\Tiedostot\\Advanced-data_analytics\\.venv\\lib\\site-packages\\pandas\\core\\frame.py:4102\u001b[0m, in \u001b[0;36mDataFrame.__getitem__\u001b[1;34m(self, key)\u001b[0m\n\u001b[0;32m   4100\u001b[0m \u001b[38;5;28;01mif\u001b[39;00m \u001b[38;5;28mself\u001b[39m\u001b[38;5;241m.\u001b[39mcolumns\u001b[38;5;241m.\u001b[39mnlevels \u001b[38;5;241m>\u001b[39m \u001b[38;5;241m1\u001b[39m:\n\u001b[0;32m   4101\u001b[0m     \u001b[38;5;28;01mreturn\u001b[39;00m \u001b[38;5;28mself\u001b[39m\u001b[38;5;241m.\u001b[39m_getitem_multilevel(key)\n\u001b[1;32m-> 4102\u001b[0m indexer \u001b[38;5;241m=\u001b[39m \u001b[38;5;28;43mself\u001b[39;49m\u001b[38;5;241;43m.\u001b[39;49m\u001b[43mcolumns\u001b[49m\u001b[38;5;241;43m.\u001b[39;49m\u001b[43mget_loc\u001b[49m\u001b[43m(\u001b[49m\u001b[43mkey\u001b[49m\u001b[43m)\u001b[49m\n\u001b[0;32m   4103\u001b[0m \u001b[38;5;28;01mif\u001b[39;00m is_integer(indexer):\n\u001b[0;32m   4104\u001b[0m     indexer \u001b[38;5;241m=\u001b[39m [indexer]\n",
      "File \u001b[1;32mc:\\Users\\e1003118\\OneDrive - Enersense\\Tiedostot\\Advanced-data_analytics\\.venv\\lib\\site-packages\\pandas\\core\\indexes\\base.py:3812\u001b[0m, in \u001b[0;36mIndex.get_loc\u001b[1;34m(self, key)\u001b[0m\n\u001b[0;32m   3807\u001b[0m     \u001b[38;5;28;01mif\u001b[39;00m \u001b[38;5;28misinstance\u001b[39m(casted_key, \u001b[38;5;28mslice\u001b[39m) \u001b[38;5;129;01mor\u001b[39;00m (\n\u001b[0;32m   3808\u001b[0m         \u001b[38;5;28misinstance\u001b[39m(casted_key, abc\u001b[38;5;241m.\u001b[39mIterable)\n\u001b[0;32m   3809\u001b[0m         \u001b[38;5;129;01mand\u001b[39;00m \u001b[38;5;28many\u001b[39m(\u001b[38;5;28misinstance\u001b[39m(x, \u001b[38;5;28mslice\u001b[39m) \u001b[38;5;28;01mfor\u001b[39;00m x \u001b[38;5;129;01min\u001b[39;00m casted_key)\n\u001b[0;32m   3810\u001b[0m     ):\n\u001b[0;32m   3811\u001b[0m         \u001b[38;5;28;01mraise\u001b[39;00m InvalidIndexError(key)\n\u001b[1;32m-> 3812\u001b[0m     \u001b[38;5;28;01mraise\u001b[39;00m \u001b[38;5;167;01mKeyError\u001b[39;00m(key) \u001b[38;5;28;01mfrom\u001b[39;00m \u001b[38;5;21;01merr\u001b[39;00m\n\u001b[0;32m   3813\u001b[0m \u001b[38;5;28;01mexcept\u001b[39;00m \u001b[38;5;167;01mTypeError\u001b[39;00m:\n\u001b[0;32m   3814\u001b[0m     \u001b[38;5;66;03m# If we have a listlike key, _check_indexing_error will raise\u001b[39;00m\n\u001b[0;32m   3815\u001b[0m     \u001b[38;5;66;03m#  InvalidIndexError. Otherwise we fall through and re-raise\u001b[39;00m\n\u001b[0;32m   3816\u001b[0m     \u001b[38;5;66;03m#  the TypeError.\u001b[39;00m\n\u001b[0;32m   3817\u001b[0m     \u001b[38;5;28mself\u001b[39m\u001b[38;5;241m.\u001b[39m_check_indexing_error(key)\n",
      "\u001b[1;31mKeyError\u001b[0m: 'job'"
     ]
    }
   ],
   "source": [
    "# EVEN though the Dataprep did not work in this notebook\n",
    "# I managed succesfully this tool in another Classification project\n",
    "# the link for this project:\n",
    "# https://github.com/crypt0kitik/deep_learning/blob/main/2%20-%20ANN%20for%20classification/01%20-%20Data%20Engineering.ipynb\n",
    "\n",
    "from dataprep.datasets import load_dataset\n",
    "from dataprep.eda import create_report\n",
    "import pandas as pd\n",
    "df = pd.read_csv(\"bank.csv\")\n",
    "\n",
    "# I had an error  that stated that\n",
    "# I have an error in the job column\n",
    "# that is why I decided to check \n",
    "# maybe I deleted this column or imported the wrong dataset\n",
    "# but problem was not in this one\n",
    "print(df.columns)\n",
    "\n",
    "# I thought that maybe dropping Nan values can help to solve the problem\n",
    "# it did not\n",
    "# df.dropna(inplace=True)\n",
    "\n",
    "\n",
    "create_report(df).show_browser()"
   ]
  },
  {
   "cell_type": "code",
   "execution_count": null,
   "id": "2b4d9843-778f-455f-a71a-27c86e4b51d6",
   "metadata": {},
   "outputs": [],
   "source": [
    "# "
   ]
  }
 ],
 "metadata": {
  "kernelspec": {
   "display_name": ".venv",
   "language": "python",
   "name": "python3"
  },
  "language_info": {
   "codemirror_mode": {
    "name": "ipython",
    "version": 3
   },
   "file_extension": ".py",
   "mimetype": "text/x-python",
   "name": "python",
   "nbconvert_exporter": "python",
   "pygments_lexer": "ipython3",
   "version": "3.9.0"
  }
 },
 "nbformat": 4,
 "nbformat_minor": 5
}

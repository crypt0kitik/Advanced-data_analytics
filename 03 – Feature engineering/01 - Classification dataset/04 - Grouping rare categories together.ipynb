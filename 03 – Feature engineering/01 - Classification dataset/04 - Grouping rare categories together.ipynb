{
 "cells": [
  {
   "cell_type": "markdown",
   "metadata": {},
   "source": [
    "# 04 - High cardinality management: Grouping rare categories together\n",
    "\n",
    "Grouping rare categories involves combining infrequent categories into a single \"Other\" category or a similar label. This helps reduce noise and improve model generalization, especially when dealing with high-cardinality categorical features.\n",
    "\n",
    "*very interesting tool, \n",
    "I am excited to try it our"
   ]
  },
  {
   "cell_type": "code",
   "execution_count": 5,
   "metadata": {},
   "outputs": [],
   "source": [
    "import pandas as pd\n",
    "from sklearn.model_selection import train_test_split\n",
    "from sklearn.linear_model import LogisticRegression\n",
    "from sklearn.metrics import accuracy_score, classification_report\n"
   ]
  },
  {
   "cell_type": "code",
   "execution_count": 6,
   "metadata": {},
   "outputs": [],
   "source": [
    "# Load dataset\n",
    "df = pd.read_csv(\"bank_numeric.csv\")\n",
    "\n",
    "# Define features and target\n",
    "target_column = \"deposit\"\n",
    "X = df.drop(columns=[target_column])\n",
    "y = df[target_column]"
   ]
  },
  {
   "cell_type": "code",
   "execution_count": 7,
   "metadata": {},
   "outputs": [
    {
     "name": "stdout",
     "output_type": "stream",
     "text": [
      "\n",
      "Categorical Columns for Grouping Rare Categories: ['marital', 'education', 'default', 'housing', 'loan', 'contact', 'previous', 'poutcome']\n"
     ]
    }
   ],
   "source": [
    "# I do not have categorical columns\n",
    "# that is why I create them here in order to implement this tool\n",
    "\n",
    "# Identify Categorical Columns Dynamically\n",
    "# A column is considered categorical if it has fewer than or equal to 10 unique values\n",
    "CATEGORICAL_THRESHOLD = 10\n",
    "categorical_columns = [col for col in X.columns if X[col].nunique() <= CATEGORICAL_THRESHOLD]\n",
    "print(\"\\nCategorical Columns for Grouping Rare Categories:\", categorical_columns)\n",
    "\n",
    "# Threshold for rare categories (frequency below this is considered rare)\n",
    "RARE_THRESHOLD = 0.05  # 5% of total rows\n"
   ]
  },
  {
   "cell_type": "code",
   "execution_count": null,
   "metadata": {},
   "outputs": [
    {
     "name": "stdout",
     "output_type": "stream",
     "text": [
      "\n",
      "Sample Categorical Column After Grouping Rare Categories:\n",
      "\n",
      "   marital education default  housing  loan contact previous  poutcome\n",
      "0        1         1       0        1     0       2        0         3\n",
      "1        2         2       0        1     1       2        0         3\n",
      "2        1         1       0        1     0       2        0         3\n",
      "3        2         1       0        1     0       2        0         3\n",
      "4        1         1       0        1     0       2        0         3\n"
     ]
    }
   ],
   "source": [
    "# Group Rare Categories\n",
    "def group_rare_categories(df, column, threshold):\n",
    "    # Calculate category frequencies\n",
    "    category_frequencies = df[column].value_counts(normalize=True)\n",
    "    \n",
    "    # Identify rare categories\n",
    "    rare_categories = category_frequencies[category_frequencies < threshold].index\n",
    "    \n",
    "    # Replace rare categories with \"Other\"\n",
    "    df[column] = df[column].apply(lambda x: \"Other\" if x in rare_categories else x)\n",
    "    return df\n",
    "\n",
    "# Apply grouping to all identified categorical columns\n",
    "for col in categorical_columns:\n",
    "    X = group_rare_categories(X, col, RARE_THRESHOLD)\n",
    "\n",
    "# Check the result of grouping\n",
    "print(\"\\nSample Categorical Column After Grouping Rare Categories:\\n\")\n",
    "print(X[categorical_columns].head())\n",
    "\n",
    "# I understood a small issue, that\n",
    "# the code was supposed to replace\n",
    "# string and other types of format\n",
    "#  with numeric codes\n",
    "# but I already had numeric data\n",
    "# that is why I will load now uncleaned data\n",
    "# and try again to process everything\n",
    "\n"
   ]
  },
  {
   "cell_type": "code",
   "execution_count": 9,
   "metadata": {},
   "outputs": [],
   "source": [
    "# Train-Test Split\n",
    "X_train, X_test, y_train, y_test = train_test_split(X, y, test_size=0.3, random_state=42)"
   ]
  },
  {
   "cell_type": "code",
   "execution_count": 10,
   "metadata": {},
   "outputs": [],
   "source": [
    "# One-Hot Encoding (for Logistic Regression)\n",
    "X_train_encoded = pd.get_dummies(X_train, columns=categorical_columns, drop_first=True)\n",
    "X_test_encoded = pd.get_dummies(X_test, columns=categorical_columns, drop_first=True)\n",
    "\n",
    "# Ensure the test set has the same columns as the training set\n",
    "X_test_encoded = X_test_encoded.reindex(columns=X_train_encoded.columns, fill_value=0)\n",
    "\n"
   ]
  },
  {
   "cell_type": "code",
   "execution_count": 11,
   "metadata": {},
   "outputs": [
    {
     "name": "stdout",
     "output_type": "stream",
     "text": [
      "\n",
      "Metrics After Grouping Rare Categories:\n",
      "              precision    recall  f1-score   support\n",
      "\n",
      "           0       0.80      0.89      0.84       915\n",
      "           1       0.82      0.69      0.75       663\n",
      "\n",
      "    accuracy                           0.81      1578\n",
      "   macro avg       0.81      0.79      0.80      1578\n",
      "weighted avg       0.81      0.81      0.81      1578\n",
      "\n",
      "\n",
      "Model overall accuracy: 80.80%\n"
     ]
    },
    {
     "name": "stderr",
     "output_type": "stream",
     "text": [
      "C:\\Users\\e1003118\\AppData\\Local\\Packages\\PythonSoftwareFoundation.Python.3.9_qbz5n2kfra8p0\\LocalCache\\local-packages\\Python39\\site-packages\\sklearn\\linear_model\\_logistic.py:469: ConvergenceWarning: lbfgs failed to converge (status=1):\n",
      "STOP: TOTAL NO. of ITERATIONS REACHED LIMIT.\n",
      "\n",
      "Increase the number of iterations (max_iter) or scale the data as shown in:\n",
      "    https://scikit-learn.org/stable/modules/preprocessing.html\n",
      "Please also refer to the documentation for alternative solver options:\n",
      "    https://scikit-learn.org/stable/modules/linear_model.html#logistic-regression\n",
      "  n_iter_i = _check_optimize_result(\n"
     ]
    }
   ],
   "source": [
    "# Train Logistic Regression Model\n",
    "log_reg = LogisticRegression(max_iter=1000, random_state=42)\n",
    "log_reg.fit(X_train_encoded, y_train)\n",
    "\n",
    "# Predict and Evaluate\n",
    "y_pred = log_reg.predict(X_test_encoded)\n",
    "print(\"\\nMetrics After Grouping Rare Categories:\")\n",
    "print(classification_report(y_test, y_pred))\n",
    "print(\"\\nModel overall accuracy: {:.2f}%\".format(accuracy_score(y_test, y_pred) * 100))\n"
   ]
  },
  {
   "cell_type": "code",
   "execution_count": null,
   "metadata": {},
   "outputs": [
    {
     "name": "stdout",
     "output_type": "stream",
     "text": [
      "\n",
      "Categorical Columns for Grouping Rare Categories: ['job', 'marital', 'education', 'default', 'housing', 'loan', 'contact', 'month', 'poutcome']\n",
      "\n",
      "Sample Categorical Column After Grouping Rare Categories:\n",
      "          job  marital  education default housing loan  contact month poutcome\n",
      "0      admin.  married  secondary      no     yes   no  unknown   may  unknown\n",
      "1      admin.  married  secondary      no      no   no  unknown   may  unknown\n",
      "2  technician  married  secondary      no     yes   no  unknown   may  unknown\n",
      "3    services  married  secondary      no     yes   no  unknown   may  unknown\n",
      "4      admin.  married   tertiary      no      no   no  unknown   may  unknown\n"
     ]
    }
   ],
   "source": [
    "# AGAIN\n",
    "# but with the uncleaned dataset\n",
    "\n",
    "# Load dataset\n",
    "df = pd.read_csv(\"bank.csv\")\n",
    "\n",
    "# Define features and target\n",
    "target_column = \"deposit\"\n",
    "X = df.drop(columns=[target_column])\n",
    "y = df[target_column]\n",
    "\n",
    "# Identify high-cardinality categorical columns\n",
    "categorical_columns = X.select_dtypes(include=['object']).columns\n",
    "print(\"\\nCategorical Columns for Grouping Rare Categories:\", categorical_columns.tolist())\n",
    "\n",
    "# Threshold for rare categories (frequency below this is considered rare)\n",
    "RARE_THRESHOLD = 0.05  # 5% of total rows\n",
    "\n",
    "# Step 1: Group Rare Categories\n",
    "def group_rare_categories(df, column, threshold):\n",
    "    # Calculate category frequencies\n",
    "    category_frequencies = df[column].value_counts(normalize=True)\n",
    "    \n",
    "    # Identify rare categories\n",
    "    rare_categories = category_frequencies[category_frequencies < threshold].index\n",
    "    \n",
    "    # Replace rare categories with \"Other\"\n",
    "    df[column] = df[column].apply(lambda x: \"Other\" if x in rare_categories else x)\n",
    "    return df\n",
    "\n",
    "# Apply grouping to all categorical columns\n",
    "for col in categorical_columns:\n",
    "    X = group_rare_categories(X, col, RARE_THRESHOLD)\n",
    "\n",
    "# Check the result of grouping\n",
    "print(\"\\nSample Categorical Column After Grouping Rare Categories:\")\n",
    "print(X[categorical_columns].head())\n"
   ]
  },
  {
   "cell_type": "code",
   "execution_count": null,
   "metadata": {},
   "outputs": [
    {
     "name": "stdout",
     "output_type": "stream",
     "text": [
      "Unique values in job: ['admin.' 'technician' 'services' 'management' 'retired' 'blue-collar'\n",
      " 'Other']\n",
      "Unique values in marital: ['married' 'single' 'divorced']\n",
      "Unique values in education: ['secondary' 'tertiary' 'primary' 'Other']\n",
      "Unique values in default: ['no' 'Other']\n",
      "Unique values in housing: ['yes' 'no']\n",
      "Unique values in loan: ['no' 'yes']\n",
      "Unique values in contact: ['unknown' 'cellular' 'telephone']\n",
      "Unique values in month: ['may' 'jun' 'jul' 'aug' 'Other' 'nov' 'feb' 'apr']\n",
      "Unique values in poutcome: ['unknown' 'Other' 'failure' 'success']\n"
     ]
    }
   ],
   "source": [
    "# to be honest, I do not see any changes\n",
    "# that is why I decided to verify the grouping worked\n",
    "\n",
    "# let's check the unique values of each column \n",
    "# and look for the \"Other\" label\n",
    "for col in categorical_columns:\n",
    "    print(f\"Unique values in {col}: {X[col].unique()}\")\n",
    "\n",
    "# \"Other\" should appear in columns where rare categories were grouped"
   ]
  },
  {
   "cell_type": "code",
   "execution_count": 17,
   "metadata": {},
   "outputs": [
    {
     "name": "stdout",
     "output_type": "stream",
     "text": [
      "\n",
      "Metrics After Grouping Rare Categories:\n",
      "              precision    recall  f1-score   support\n",
      "\n",
      "          no       0.80      0.84      0.82      1742\n",
      "         yes       0.82      0.77      0.79      1607\n",
      "\n",
      "    accuracy                           0.81      3349\n",
      "   macro avg       0.81      0.80      0.80      3349\n",
      "weighted avg       0.81      0.81      0.80      3349\n",
      "\n",
      "\n",
      "Model overall accuracy: 80.50%\n"
     ]
    },
    {
     "name": "stderr",
     "output_type": "stream",
     "text": [
      "C:\\Users\\e1003118\\AppData\\Local\\Packages\\PythonSoftwareFoundation.Python.3.9_qbz5n2kfra8p0\\LocalCache\\local-packages\\Python39\\site-packages\\sklearn\\linear_model\\_logistic.py:469: ConvergenceWarning: lbfgs failed to converge (status=1):\n",
      "STOP: TOTAL NO. of ITERATIONS REACHED LIMIT.\n",
      "\n",
      "Increase the number of iterations (max_iter) or scale the data as shown in:\n",
      "    https://scikit-learn.org/stable/modules/preprocessing.html\n",
      "Please also refer to the documentation for alternative solver options:\n",
      "    https://scikit-learn.org/stable/modules/linear_model.html#logistic-regression\n",
      "  n_iter_i = _check_optimize_result(\n"
     ]
    }
   ],
   "source": [
    "# Step 2: Train-Test Split\n",
    "X_train, X_test, y_train, y_test = train_test_split(X, y, test_size=0.3, random_state=42)\n",
    "\n",
    "# Step 3: One-Hot Encoding (for Logistic Regression)\n",
    "X_train_encoded = pd.get_dummies(X_train, columns=categorical_columns, drop_first=True)\n",
    "X_test_encoded = pd.get_dummies(X_test, columns=categorical_columns, drop_first=True)\n",
    "\n",
    "# Ensure the test set has the same columns as the training set\n",
    "X_test_encoded = X_test_encoded.reindex(columns=X_train_encoded.columns, fill_value=0)\n",
    "\n",
    "# Step 4: Train Logistic Regression Model\n",
    "log_reg = LogisticRegression(max_iter=1000, random_state=42)\n",
    "log_reg.fit(X_train_encoded, y_train)\n",
    "\n",
    "# Predict and Evaluate\n",
    "y_pred = log_reg.predict(X_test_encoded)\n",
    "print(\"\\nMetrics After Grouping Rare Categories:\")\n",
    "print(classification_report(y_test, y_pred))\n",
    "print(\"\\nModel overall accuracy: {:.2f}%\".format(accuracy_score(y_test, y_pred) * 100))"
   ]
  },
  {
   "cell_type": "code",
   "execution_count": null,
   "metadata": {},
   "outputs": [],
   "source": [
    "# outcome:\n",
    "# I tried this tool and the metric did not changed at all"
   ]
  }
 ],
 "metadata": {
  "kernelspec": {
   "display_name": "Python 3",
   "language": "python",
   "name": "python3"
  },
  "language_info": {
   "codemirror_mode": {
    "name": "ipython",
    "version": 3
   },
   "file_extension": ".py",
   "mimetype": "text/x-python",
   "name": "python",
   "nbconvert_exporter": "python",
   "pygments_lexer": "ipython3",
   "version": "3.9.13"
  }
 },
 "nbformat": 4,
 "nbformat_minor": 2
}

{
 "cells": [
  {
   "cell_type": "markdown",
   "metadata": {},
   "source": [
    "# 04 - High cardinality management: LeaveOneOut Encoding\n",
    "\n",
    " It encodes a categorical feature by replacing each value with the mean of the target variable"
   ]
  },
  {
   "cell_type": "code",
   "execution_count": 5,
   "metadata": {},
   "outputs": [],
   "source": [
    "# pip install category_encoders\n",
    "import pandas as pd\n",
    "import category_encoders as ce\n",
    "from sklearn.model_selection import train_test_split\n",
    "from sklearn.linear_model import LinearRegression\n",
    "from sklearn.metrics import mean_absolute_error, mean_squared_error, r2_score"
   ]
  },
  {
   "cell_type": "code",
   "execution_count": 6,
   "metadata": {},
   "outputs": [],
   "source": [
    "df = pd.read_csv(\"Numeric data (last year work).csv\")"
   ]
  },
  {
   "cell_type": "code",
   "execution_count": 7,
   "metadata": {},
   "outputs": [],
   "source": [
    "# Split into features (X) and target (y)\n",
    "X = df.drop(columns=[\"Rating\"])  # Features\n",
    "y = df[\"Rating\"]  # Target variable\n",
    "\n",
    "# Train-Test Split\n",
    "X_train, X_test, y_train, y_test = train_test_split(X, y, test_size=0.2, random_state=42)\n"
   ]
  },
  {
   "cell_type": "code",
   "execution_count": 8,
   "metadata": {},
   "outputs": [],
   "source": [
    "# LeaveOneOut Encoding\n",
    "\n",
    "# i do not have any categorical variable here\n",
    "# because genres were splitted into columns\n",
    "# but just for experiments I will choose one column randomly\n",
    "loo_encoder = ce.LeaveOneOutEncoder(cols=[\"Adventure\"])\n",
    "X_train_encoded = loo_encoder.fit_transform(X_train, y_train)\n",
    "X_test_encoded = loo_encoder.transform(X_test)"
   ]
  },
  {
   "cell_type": "code",
   "execution_count": null,
   "metadata": {},
   "outputs": [
    {
     "name": "stdout",
     "output_type": "stream",
     "text": [
      "\n",
      "Model Performance:\n",
      "MAE: 0.29\n",
      "MSE: 0.13\n",
      "RMSE: 0.36\n",
      "R-squared: 0.5\n"
     ]
    },
    {
     "name": "stderr",
     "output_type": "stream",
     "text": [
      "C:\\Users\\e1003118\\AppData\\Local\\Packages\\PythonSoftwareFoundation.Python.3.9_qbz5n2kfra8p0\\LocalCache\\local-packages\\Python39\\site-packages\\sklearn\\metrics\\_regression.py:492: FutureWarning: 'squared' is deprecated in version 1.4 and will be removed in 1.6. To calculate the root mean squared error, use the function'root_mean_squared_error'.\n",
      "  warnings.warn(\n"
     ]
    }
   ],
   "source": [
    "# Step 4: Train a Linear Regression Model\n",
    "model = LinearRegression()\n",
    "model.fit(X_train_encoded, y_train)\n",
    "\n",
    "# Step 5: Make Predictions\n",
    "y_pred = model.predict(X_test_encoded)\n",
    "\n",
    "# Step 6: Evaluate the Model\n",
    "print(\"\\nModel Performance:\")\n",
    "print(\"MAE:\", round(mean_absolute_error(y_test, y_pred), 2))\n",
    "print(\"MSE:\", round(mean_squared_error(y_test, y_pred), 2))\n",
    "print(\"RMSE:\", round(mean_squared_error(y_test, y_pred, squared=False), 2))\n",
    "print(\"R-squared:\", round(r2_score(y_test, y_pred), 2))\n",
    "\n",
    "# original metrics:\n",
    "# MAE 0.3\n",
    "# MSE 0.15 ^2\n",
    "# RMSE: 0.38\n",
    "# R-squared: 0.44\n",
    "\n",
    "# I did not expect any imporvements in metrics\n",
    "# but r-squared now is better"
   ]
  }
 ],
 "metadata": {
  "kernelspec": {
   "display_name": "Python 3",
   "language": "python",
   "name": "python3"
  },
  "language_info": {
   "codemirror_mode": {
    "name": "ipython",
    "version": 3
   },
   "file_extension": ".py",
   "mimetype": "text/x-python",
   "name": "python",
   "nbconvert_exporter": "python",
   "pygments_lexer": "ipython3",
   "version": "3.9.13"
  }
 },
 "nbformat": 4,
 "nbformat_minor": 2
}

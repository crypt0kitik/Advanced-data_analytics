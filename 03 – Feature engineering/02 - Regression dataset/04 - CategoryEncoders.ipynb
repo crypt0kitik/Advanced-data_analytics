{
 "cells": [
  {
   "cell_type": "markdown",
   "metadata": {},
   "source": [
    "# 04 - High cardinality management: Frequency encoding\n",
    "\n",
    "Technique for managing high cardinality categorical features by replacing each category with its frequency (the number of occurrences)"
   ]
  },
  {
   "cell_type": "code",
   "execution_count": null,
   "metadata": {
    "vscode": {
     "languageId": "plaintext"
    }
   },
   "outputs": [],
   "source": []
  }
 ],
 "metadata": {
  "language_info": {
   "name": "python"
  }
 },
 "nbformat": 4,
 "nbformat_minor": 2
}

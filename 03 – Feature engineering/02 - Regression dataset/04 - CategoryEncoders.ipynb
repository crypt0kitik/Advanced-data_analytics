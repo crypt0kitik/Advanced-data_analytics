{
 "cells": [
  {
   "cell_type": "markdown",
   "metadata": {},
   "source": [
    "# 04 - High cardinality management: Frequency encoding  \n",
    "\n",
    "Technique for managing high cardinality categorical features by replacing each category with its frequency (the number of occurrences)"
   ]
  },
  {
   "cell_type": "code",
   "execution_count": 4,
   "metadata": {},
   "outputs": [
    {
     "name": "stdout",
     "output_type": "stream",
     "text": [
      "DataFrame with Frequency Encoding:\n",
      "      Rating     Votes  Meta Score  Year  Duration  Action  Adventure  \\\n",
      "0        6.5   90000.0        67.0  2023       138       0          0   \n",
      "1        7.4   24000.0        66.0  2023       116       0          1   \n",
      "2        7.0   21000.0        85.0  2023       117       0          0   \n",
      "3        7.1   56000.0        54.0  2023       157       1          1   \n",
      "4        6.6   66000.0        64.0  2023       158       1          1   \n",
      "...      ...       ...         ...   ...       ...     ...        ...   \n",
      "1126     6.3   22000.0        67.0  2021       141       0          0   \n",
      "1127     7.1  172000.0        59.0  2008       112       0          0   \n",
      "1128     7.6  198000.0        79.0  1986        96       0          0   \n",
      "1129     6.5   71000.0        46.0  1992       104       0          0   \n",
      "1130     7.1  203000.0        65.0  2017       115       1          0   \n",
      "\n",
      "      Animation  Biography  Comedy  ...  PG Rating_PG  PG Rating_PG-13  \\\n",
      "0             0          0       0  ...             0                0   \n",
      "1             0          0       1  ...             1                0   \n",
      "2             0          0       1  ...             0                0   \n",
      "3             0          0       0  ...             0                1   \n",
      "4             0          1       0  ...             0                0   \n",
      "...         ...        ...     ...  ...           ...              ...   \n",
      "1126          0          0       0  ...             0                0   \n",
      "1127          0          0       1  ...             0                1   \n",
      "1128          0          0       0  ...             0                0   \n",
      "1129          0          0       1  ...             1                0   \n",
      "1130          0          0       1  ...             0                0   \n",
      "\n",
      "      PG Rating_Passed  PG Rating_R  PG Rating_TV-14  PG Rating_TV-G  \\\n",
      "0                    0            1                0               0   \n",
      "1                    0            0                0               0   \n",
      "2                    0            1                0               0   \n",
      "3                    0            0                0               0   \n",
      "4                    0            1                0               0   \n",
      "...                ...          ...              ...             ...   \n",
      "1126                 0            1                0               0   \n",
      "1127                 0            0                0               0   \n",
      "1128                 0            1                0               0   \n",
      "1129                 0            0                0               0   \n",
      "1130                 0            1                0               0   \n",
      "\n",
      "      PG Rating_TV-MA  PG Rating_TV-PG  PG Rating_TV-Y7  Duration_Freq  \n",
      "0                   0                0                0             10  \n",
      "1                   0                0                0             26  \n",
      "2                   0                0                0             22  \n",
      "3                   0                0                0              3  \n",
      "4                   0                0                0              4  \n",
      "...               ...              ...              ...            ...  \n",
      "1126                0                0                0              7  \n",
      "1127                0                0                0             24  \n",
      "1128                0                0                0             20  \n",
      "1129                0                0                0             28  \n",
      "1130                0                0                0             18  \n",
      "\n",
      "[1131 rows x 43 columns]\n"
     ]
    }
   ],
   "source": [
    "import pandas as pd\n",
    "\n",
    "df = pd.read_csv(\"Numeric data (last year work).csv\")\n",
    "\n",
    "# Step 1: Calculate the frequency of each category\n",
    "frequency = df[\"Duration\"].value_counts()\n",
    "\n",
    "# Step 2: Map the frequency back to the dataset\n",
    "df[\"Duration_Freq\"] = df[\"Duration\"].map(frequency)\n",
    "\n",
    "# Display the updated DataFrame\n",
    "print(\"DataFrame with Frequency Encoding:\")\n",
    "print(df)\n"
   ]
  },
  {
   "cell_type": "code",
   "execution_count": 6,
   "metadata": {},
   "outputs": [
    {
     "name": "stdout",
     "output_type": "stream",
     "text": [
      "\n",
      "Model Performance:\n",
      "MAE: 0.29\n",
      "MSE: 0.13\n",
      "RMSE: 0.37\n",
      "R-squared: 0.5\n"
     ]
    }
   ],
   "source": [
    "# let's create a linear regression model\n",
    "# and see if frequency encoding helped to improve metrics\n",
    "\n",
    "from sklearn.model_selection import train_test_split\n",
    "from sklearn.linear_model import LinearRegression\n",
    "from sklearn.metrics import mean_absolute_error, mean_squared_error, r2_score\n",
    "import numpy as np\n",
    "\n",
    "# Step 1: Prepare the dataset\n",
    "# Drop any unnecessary columns (if needed)\n",
    "# Assume 'Rating' is the target variable\n",
    "target = 'Rating'  # Replace with the name of your target column\n",
    "features = df.drop(columns=[target], errors='ignore')  # Drop target column to use the rest as features\n",
    "X = features\n",
    "y = df[target]\n",
    "\n",
    "# Handle missing values (if any) by filling with median values\n",
    "X = X.fillna(X.median())\n",
    "\n",
    "# Step 2: Train-Test Split\n",
    "X_train, X_test, y_train, y_test = train_test_split(X, y, test_size=0.2, random_state=42)\n",
    "\n",
    "# Step 3: Train a Linear Regression Model\n",
    "model = LinearRegression()\n",
    "model.fit(X_train, y_train)\n",
    "\n",
    "# Step 4: Make Predictions\n",
    "y_pred = model.predict(X_test)\n",
    "\n",
    "# Step 5: Evaluate the Model\n",
    "print(\"\\nModel Performance:\")\n",
    "print(\"MAE:\", round(mean_absolute_error(y_test, y_pred), 2))\n",
    "print(\"MSE:\", round(mean_squared_error(y_test, y_pred), 2))\n",
    "print(\"RMSE:\", round(np.sqrt(mean_squared_error(y_test, y_pred)), 2))\n",
    "print(\"R-squared:\", round(r2_score(y_test, y_pred), 2))\n",
    "\n",
    "\n",
    "# original metrics:\n",
    "# MAE 0.3\n",
    "# MSE 0.15 ^2\n",
    "# RMSE: 0.38\n",
    "# R-squared: 0.44\n",
    "\n",
    "# the encoding tool did not improved metrics\n",
    "# moreover, made it even worse\n",
    "# probably, because the year has many variables\n",
    "# and too many variabled were enconded"
   ]
  }
 ],
 "metadata": {
  "kernelspec": {
   "display_name": "Python 3",
   "language": "python",
   "name": "python3"
  },
  "language_info": {
   "codemirror_mode": {
    "name": "ipython",
    "version": 3
   },
   "file_extension": ".py",
   "mimetype": "text/x-python",
   "name": "python",
   "nbconvert_exporter": "python",
   "pygments_lexer": "ipython3",
   "version": "3.9.13"
  }
 },
 "nbformat": 4,
 "nbformat_minor": 2
}

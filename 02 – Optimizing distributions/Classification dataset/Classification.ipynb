{
 "cells": [
  {
   "cell_type": "markdown",
   "id": "fb779951-ab84-40fd-944c-a3e3d7b19206",
   "metadata": {},
   "source": [
    "One dataset for classification purposes  \n",
    "Target variable is a classification target with certain amount of options which is taking the loan - yes/no  \n",
    "\n",
    "The link for the dataset: https://www.kaggle.com/datasets/rouseguy/bankbalanced"
   ]
  },
  {
   "cell_type": "code",
   "execution_count": 2,
   "id": "cbe903a6-21ca-4cd3-a6cc-2243a8e48336",
   "metadata": {},
   "outputs": [],
   "source": [
    "# import libraries\n",
    "import pandas as pd\n",
    "import numpy as np\n",
    "import matplotlib.pyplot as plt\n",
    "import seaborn as sns\n",
    "from sklearn.model_selection import train_test_split\n",
    "from sklearn import metrics"
   ]
  },
  {
   "cell_type": "code",
   "execution_count": 3,
   "id": "434160d1-8203-4751-ab8f-4098fb52f2aa",
   "metadata": {},
   "outputs": [],
   "source": [
    "# upload data\n",
    "df = pd.read_csv(\"bank.csv\")"
   ]
  },
  {
   "cell_type": "code",
   "execution_count": null,
   "id": "639e3039-f398-4f86-b70f-d283ec891fe3",
   "metadata": {},
   "outputs": [],
   "source": []
  }
 ],
 "metadata": {
  "kernelspec": {
   "display_name": "Python 3 (ipykernel)",
   "language": "python",
   "name": "python3"
  },
  "language_info": {
   "codemirror_mode": {
    "name": "ipython",
    "version": 3
   },
   "file_extension": ".py",
   "mimetype": "text/x-python",
   "name": "python",
   "nbconvert_exporter": "python",
   "pygments_lexer": "ipython3",
   "version": "3.12.5"
  }
 },
 "nbformat": 4,
 "nbformat_minor": 5
}

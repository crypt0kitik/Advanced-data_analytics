{
 "cells": [
  {
   "cell_type": "markdown",
   "metadata": {},
   "source": [
    "Regression dataset  \n",
    "01 -  Sampling technique (oversampling)  \n",
    "\n",
    "\n",
    "\n",
    "Classification datase  \n",
    "01 -  Sampling technique (oversampling)  \n",
    "\n",
    "Other datasets for experiments\n",
    "01 - -  Sampling technique (undersampling)  \n"
   ]
  }
 ],
 "metadata": {
  "language_info": {
   "name": "python"
  }
 },
 "nbformat": 4,
 "nbformat_minor": 2
}

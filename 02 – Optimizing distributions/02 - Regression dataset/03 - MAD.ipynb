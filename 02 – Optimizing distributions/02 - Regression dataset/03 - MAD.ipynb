{
 "cells": [
  {
   "cell_type": "markdown",
   "metadata": {},
   "source": [
    "# 03 - Noise Management (MAD)"
   ]
  },
  {
   "cell_type": "code",
   "execution_count": 1,
   "metadata": {},
   "outputs": [],
   "source": [
    "# import libraries\n",
    "import numpy as np\n",
    "import pandas as pd\n",
    "from sklearn.datasets import make_regression\n",
    "from sklearn.model_selection import train_test_split\n",
    "from sklearn.linear_model import LinearRegression\n",
    "from sklearn import metrics\n",
    "import matplotlib.pyplot as plt\n",
    "import seaborn as sns"
   ]
  },
  {
   "cell_type": "code",
   "execution_count": 3,
   "metadata": {},
   "outputs": [],
   "source": [
    "# load data\n",
    "pd.set_option('display.float_format', '{:.1f}'.format)\n",
    "df = pd.read_csv(\"Numeric data (last year work).csv\")"
   ]
  },
  {
   "cell_type": "code",
   "execution_count": 5,
   "metadata": {},
   "outputs": [],
   "source": [
    "# define a function to detect outliers using MAD\n",
    "def detect_outliers_mad(data, threshold=3.5):\n",
    "    \"\"\"\n",
    "    Detect outliers in a dataset using the Median Absolute Deviation (MAD).\n",
    "    \n",
    "    Args:\n",
    "    - data: A Pandas Series or 1D array-like object.\n",
    "    - threshold: The number of deviations from the median to consider as an outlier.\n",
    "    \n",
    "    Returns:\n",
    "    - A boolean mask where True indicates an outlier.\n",
    "    \"\"\"\n",
    "    median = np.median(data)\n",
    "    abs_deviation = np.abs(data - median)\n",
    "    mad = np.median(abs_deviation)\n",
    "    if mad == 0:  # Handle case where MAD is zero\n",
    "        return np.zeros(len(data), dtype=bool)\n",
    "    modified_z_score = 0.6745 * abs_deviation / mad\n",
    "    return modified_z_score > threshold\n",
    "\n",
    "# identify numeric columns\n",
    "numeric_columns = df.select_dtypes(include=np.number).columns\n"
   ]
  },
  {
   "cell_type": "code",
   "execution_count": 7,
   "metadata": {},
   "outputs": [
    {
     "name": "stdout",
     "output_type": "stream",
     "text": [
      "Processing column: Rating\n",
      "Number of outliers in Rating: 0\n",
      "Processing column: Votes\n",
      "Number of outliers in Votes: 0\n",
      "Processing column: Meta Score\n",
      "Number of outliers in Meta Score: 0\n",
      "Processing column: Year\n",
      "Number of outliers in Year: 0\n",
      "Processing column: Duration\n",
      "Number of outliers in Duration: 0\n",
      "Processing column: Action\n",
      "Number of outliers in Action: 0\n",
      "Processing column: Adventure\n",
      "Number of outliers in Adventure: 0\n",
      "Processing column: Animation\n",
      "Number of outliers in Animation: 0\n",
      "Processing column: Biography\n",
      "Number of outliers in Biography: 0\n",
      "Processing column: Comedy\n",
      "Number of outliers in Comedy: 0\n",
      "Processing column: Crime\n",
      "Number of outliers in Crime: 0\n",
      "Processing column: Documentary\n",
      "Number of outliers in Documentary: 0\n",
      "Processing column: Drama\n",
      "Number of outliers in Drama: 0\n",
      "Processing column: Family\n",
      "Number of outliers in Family: 0\n",
      "Processing column: Fantasy\n",
      "Number of outliers in Fantasy: 0\n",
      "Processing column: History\n",
      "Number of outliers in History: 0\n",
      "Processing column: Horror\n",
      "Number of outliers in Horror: 0\n",
      "Processing column: Music\n",
      "Number of outliers in Music: 0\n",
      "Processing column: Musical\n",
      "Number of outliers in Musical: 0\n",
      "Processing column: Mystery\n",
      "Number of outliers in Mystery: 0\n",
      "Processing column: Romance\n",
      "Number of outliers in Romance: 0\n",
      "Processing column: Sci-Fi\n",
      "Number of outliers in Sci-Fi: 0\n",
      "Processing column: Sport\n",
      "Number of outliers in Sport: 0\n",
      "Processing column: Thriller\n",
      "Number of outliers in Thriller: 0\n",
      "Processing column: War\n",
      "Number of outliers in War: 0\n",
      "Processing column: Western\n",
      "Number of outliers in Western: 0\n",
      "Processing column: PG Rating_13+\n",
      "Number of outliers in PG Rating_13+: 0\n",
      "Processing column: PG Rating_16+\n",
      "Number of outliers in PG Rating_16+: 0\n",
      "Processing column: PG Rating_18+\n",
      "Number of outliers in PG Rating_18+: 0\n",
      "Processing column: PG Rating_Approved\n",
      "Number of outliers in PG Rating_Approved: 0\n",
      "Processing column: PG Rating_G\n",
      "Number of outliers in PG Rating_G: 0\n",
      "Processing column: PG Rating_GP\n",
      "Number of outliers in PG Rating_GP: 0\n",
      "Processing column: PG Rating_NC-17\n",
      "Number of outliers in PG Rating_NC-17: 0\n",
      "Processing column: PG Rating_PG\n",
      "Number of outliers in PG Rating_PG: 0\n",
      "Processing column: PG Rating_PG-13\n",
      "Number of outliers in PG Rating_PG-13: 0\n",
      "Processing column: PG Rating_Passed\n",
      "Number of outliers in PG Rating_Passed: 0\n",
      "Processing column: PG Rating_R\n",
      "Number of outliers in PG Rating_R: 0\n",
      "Processing column: PG Rating_TV-14\n",
      "Number of outliers in PG Rating_TV-14: 0\n",
      "Processing column: PG Rating_TV-G\n",
      "Number of outliers in PG Rating_TV-G: 0\n",
      "Processing column: PG Rating_TV-MA\n",
      "Number of outliers in PG Rating_TV-MA: 0\n",
      "Processing column: PG Rating_TV-PG\n",
      "Number of outliers in PG Rating_TV-PG: 0\n",
      "Processing column: PG Rating_TV-Y7\n",
      "Number of outliers in PG Rating_TV-Y7: 0\n"
     ]
    }
   ],
   "source": [
    "# process each numeric column for outliers\n",
    "outlier_counts = {}\n",
    "for col in numeric_columns:\n",
    "    print(f\"Processing column: {col}\")\n",
    "    outliers = detect_outliers_mad(df[col])\n",
    "    outlier_count = np.sum(outliers)\n",
    "    outlier_counts[col] = outlier_count\n",
    "    print(f\"Number of outliers in {col}: {outlier_count}\")\n",
    "\n",
    "    \n",
    "    # remove outliers\n",
    "    df = df[~outliers]"
   ]
  },
  {
   "cell_type": "code",
   "execution_count": null,
   "metadata": {},
   "outputs": [],
   "source": [
    "# it is quite suprisingly that I have zero outliers\n",
    "# I am not sure that it reflects a real picture\n",
    "\n",
    "# let's try Noise Management (RANSAC)\n",
    "# maybe we get other results\n",
    "# or maybe I am too skeptical :)"
   ]
  }
 ],
 "metadata": {
  "kernelspec": {
   "display_name": "Python 3",
   "language": "python",
   "name": "python3"
  },
  "language_info": {
   "codemirror_mode": {
    "name": "ipython",
    "version": 3
   },
   "file_extension": ".py",
   "mimetype": "text/x-python",
   "name": "python",
   "nbconvert_exporter": "python",
   "pygments_lexer": "ipython3",
   "version": "3.9.13"
  }
 },
 "nbformat": 4,
 "nbformat_minor": 2
}

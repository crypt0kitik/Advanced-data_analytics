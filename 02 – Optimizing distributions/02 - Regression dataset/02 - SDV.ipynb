{
 "cells": [
  {
   "cell_type": "markdown",
   "metadata": {},
   "source": [
    "# 02 - Data synthetization (SDV) "
   ]
  },
  {
   "cell_type": "code",
   "execution_count": 7,
   "metadata": {},
   "outputs": [
    {
     "ename": "ModuleNotFoundError",
     "evalue": "No module named 'sdv'",
     "output_type": "error",
     "traceback": [
      "\u001b[1;31m---------------------------------------------------------------------------\u001b[0m",
      "\u001b[1;31mModuleNotFoundError\u001b[0m                       Traceback (most recent call last)",
      "Cell \u001b[1;32mIn[7], line 13\u001b[0m\n\u001b[0;32m      9\u001b[0m \u001b[38;5;28;01mimport\u001b[39;00m \u001b[38;5;21;01mseaborn\u001b[39;00m \u001b[38;5;28;01mas\u001b[39;00m \u001b[38;5;21;01msns\u001b[39;00m\n\u001b[0;32m     11\u001b[0m \u001b[38;5;66;03m#from sdv.tabular import GaussianCopula  # For sdv==0.17.0\u001b[39;00m\n\u001b[0;32m     12\u001b[0m \u001b[38;5;66;03m# OR\u001b[39;00m\n\u001b[1;32m---> 13\u001b[0m \u001b[38;5;28;01mfrom\u001b[39;00m \u001b[38;5;21;01msdv\u001b[39;00m\u001b[38;5;21;01m.\u001b[39;00m\u001b[38;5;21;01mmodels\u001b[39;00m \u001b[38;5;28;01mimport\u001b[39;00m GaussianCopula\n",
      "\u001b[1;31mModuleNotFoundError\u001b[0m: No module named 'sdv'"
     ]
    }
   ],
   "source": [
    "# import libraries\n",
    "import numpy as np\n",
    "import pandas as pd\n",
    "from sklearn.datasets import make_regression\n",
    "from sklearn.model_selection import train_test_split\n",
    "from sklearn.linear_model import LinearRegression\n",
    "from sklearn import metrics\n",
    "import matplotlib.pyplot as plt\n",
    "import seaborn as sns\n",
    "\n",
    "#from sdv.tabular import GaussianCopula  # For sdv==0.17.0\n",
    "# OR\n",
    "from sdv.models import GaussianCopula  # For sdv>=1.0.0\n",
    "\n"
   ]
  },
  {
   "cell_type": "code",
   "execution_count": null,
   "metadata": {},
   "outputs": [],
   "source": [
    "# load data\n",
    "pd.set_option('display.float_format', '{:.1f}'.format)\n",
    "df = pd.read_csv(\"Numeric data (last year work).csv\")"
   ]
  },
  {
   "cell_type": "code",
   "execution_count": null,
   "metadata": {},
   "outputs": [],
   "source": [
    "# split data\n",
    "target_column = 'Rating' \n",
    "features = df.drop(columns=[target_column])\n",
    "target = df[target_column]"
   ]
  },
  {
   "cell_type": "code",
   "execution_count": null,
   "metadata": {},
   "outputs": [
    {
     "name": "stdout",
     "output_type": "stream",
     "text": [
      "Metrics Before Data Synthesis:\n",
      "MAE: 0.29\n",
      "MSE: 0.13 ^2\n",
      "RMSE: 0.36\n",
      "R-squared: 0.55\n"
     ]
    }
   ],
   "source": [
    "# Step 2: Split the dataset into training and testing sets\n",
    "X_train, X_test, y_train, y_test = train_test_split(features, target, test_size=0.3, random_state=42)\n",
    "\n",
    "# Step 3: Train a linear regression model on the original data\n",
    "model = LinearRegression()\n",
    "model.fit(X_train, y_train)\n",
    "predictions = model.predict(X_test)\n",
    "\n",
    "# Step 4: Evaluate the model before data synthesis\n",
    "print(\"Metrics Before Data Synthesis:\")\n",
    "print(\"MAE:\", round(metrics.mean_absolute_error(y_test, predictions), 2))\n",
    "print(\"MSE:\", round(metrics.mean_squared_error(y_test, predictions), 2), \"^2\")\n",
    "print(\"RMSE:\", round(np.sqrt(metrics.mean_squared_error(y_test, predictions)), 2))\n",
    "print(\"R-squared:\", round(metrics.r2_score(y_test, predictions), 2))\n"
   ]
  }
 ],
 "metadata": {
  "kernelspec": {
   "display_name": ".venv",
   "language": "python",
   "name": "python3"
  },
  "language_info": {
   "codemirror_mode": {
    "name": "ipython",
    "version": 3
   },
   "file_extension": ".py",
   "mimetype": "text/x-python",
   "name": "python",
   "nbconvert_exporter": "python",
   "pygments_lexer": "ipython3",
   "version": "3.9.0"
  }
 },
 "nbformat": 4,
 "nbformat_minor": 2
}
